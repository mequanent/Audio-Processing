{
  "nbformat": 4,
  "nbformat_minor": 0,
  "metadata": {
    "colab": {
      "name": "Audio Processing Beginner.ipynb",
      "provenance": [],
      "authorship_tag": "ABX9TyPZuMwVuB7IrKk+Kbe0b39a",
      "include_colab_link": true
    },
    "kernelspec": {
      "name": "python3",
      "display_name": "Python 3"
    },
    "language_info": {
      "name": "python"
    }
  },
  "cells": [
    {
      "cell_type": "markdown",
      "metadata": {
        "id": "view-in-github",
        "colab_type": "text"
      },
      "source": [
        "<a href=\"https://colab.research.google.com/github/mequanent/Audio-Processing/blob/main/Audio_Processing_Beginner.ipynb\" target=\"_parent\"><img src=\"https://colab.research.google.com/assets/colab-badge.svg\" alt=\"Open In Colab\"/></a>"
      ]
    },
    {
      "cell_type": "code",
      "execution_count": null,
      "metadata": {
        "id": "ZJcSjOLa1JlO"
      },
      "outputs": [],
      "source": [
        "#pip install librosa -q"
      ]
    },
    {
      "cell_type": "code",
      "source": [
        "import librosa"
      ],
      "metadata": {
        "id": "iLDhOXT8pjpW"
      },
      "execution_count": 1,
      "outputs": []
    },
    {
      "cell_type": "code",
      "source": [
        "y # one dimensional array of size 2643264\n",
        "sr # 22050 Sampling rate\n",
        "beat_frames # size 212\n",
        "tempo # 107.666015625\n",
        "beat_times.size # size 212"
      ],
      "metadata": {
        "id": "bmLQ2U0MqlYK",
        "outputId": "d8f614e9-d33a-4454-e35e-e7edba860e04",
        "colab": {
          "base_uri": "https://localhost:8080/"
        }
      },
      "execution_count": 9,
      "outputs": [
        {
          "output_type": "execute_result",
          "data": {
            "text/plain": [
              "(212,)"
            ]
          },
          "metadata": {},
          "execution_count": 9
        }
      ]
    },
    {
      "cell_type": "code",
      "source": [
        "# Beat tracking example\n",
        "import librosa\n",
        "\n",
        "# 1. Get the file path to an included audio example\n",
        "filename = librosa.example('nutcracker')\n",
        "\n",
        "\n",
        "# 2. Load the audio as a waveform `y`\n",
        "#    Store the sampling rate as `sr`\n",
        "y, sr = librosa.load(filename)\n",
        "\n",
        "# 3. Run the default beat tracker\n",
        "tempo, beat_frames = librosa.beat.beat_track(y=y, sr=sr)\n",
        "\n",
        "print('Estimated tempo: {:.2f} beats per minute'.format(tempo))\n",
        "\n",
        "# 4. Convert the frame indices of beat events into timestamps\n",
        "beat_times = librosa.frames_to_time(beat_frames, sr=sr)"
      ],
      "metadata": {
        "id": "tjx6ojxj3DoS",
        "outputId": "65986b59-1308-4941-9f8f-35d15380a0d1",
        "colab": {
          "base_uri": "https://localhost:8080/"
        }
      },
      "execution_count": null,
      "outputs": [
        {
          "output_type": "stream",
          "name": "stderr",
          "text": [
            "Downloading file 'Kevin_MacLeod_-_P_I_Tchaikovsky_Dance_of_the_Sugar_Plum_Fairy.ogg' from 'https://librosa.org/data/audio/Kevin_MacLeod_-_P_I_Tchaikovsky_Dance_of_the_Sugar_Plum_Fairy.ogg' to '/root/.cache/librosa'.\n"
          ]
        },
        {
          "output_type": "stream",
          "name": "stdout",
          "text": [
            "Estimated tempo: 107.67 beats per minute\n"
          ]
        }
      ]
    },
    {
      "cell_type": "code",
      "source": [
        "# Feature extraction example\n",
        "import numpy as np\n",
        "import librosa\n",
        "\n",
        "# Load the example clip\n",
        "y, sr = librosa.load(librosa.ex('nutcracker'))\n",
        "\n",
        "# Set the hop length; at 22050 Hz, 512 samples ~= 23ms\n",
        "hop_length = 512\n",
        "\n",
        "# Separate harmonics and percussives into two waveforms\n",
        "y_harmonic, y_percussive = librosa.effects.hpss(y)\n",
        "\n",
        "# Beat track on the percussive signal # 107.666015625 , 211 respectively\n",
        "tempo, beat_frames = librosa.beat.beat_track(y=y_percussive, sr=sr)\n",
        "\n",
        "# Compute MFCC features from the raw signal # (13, 5163)\n",
        "mfcc = librosa.feature.mfcc(y=y, sr=sr, hop_length=hop_length, n_mfcc=13)\n",
        "\n",
        "# And the first-order differences (delta features) # (13, 5163)\n",
        "mfcc_delta = librosa.feature.delta(mfcc)\n",
        "\n",
        "# Stack and synchronize between beat events\n",
        "# This time, we'll use the mean value (default) instead of median # (26, 212)\n",
        "beat_mfcc_delta = librosa.util.sync(np.vstack([mfcc, mfcc_delta]), beat_frames)\n",
        "\n",
        "# Compute chroma features from the harmonic signal # (12, 5163)\n",
        "chromagram = librosa.feature.chroma_cqt(y=y_harmonic, sr=sr)\n",
        "\n",
        "# Aggregate chroma features between beat events\n",
        "# We'll use the median value of each feature between beat frames # (12, 212)\n",
        "beat_chroma = librosa.util.sync(chromagram, beat_frames, aggregate=np.median)\n",
        "\n",
        "# Finally, stack all beat-synchronous features together # (38, 212)\n",
        "beat_features = np.vstack([beat_chroma, beat_mfcc_delta])"
      ],
      "metadata": {
        "id": "nb5NQBzAq_Ef",
        "outputId": "47911b05-befa-4efe-e72e-43fcd3309813",
        "colab": {
          "base_uri": "https://localhost:8080/"
        }
      },
      "execution_count": 17,
      "outputs": [
        {
          "output_type": "execute_result",
          "data": {
            "text/plain": [
              "array([ 2.2716861e-06,  5.3327208e-06, -7.2473290e-06, ...,\n",
              "        1.1170751e-05,  1.2871889e-06,  5.4120628e-06], dtype=float32)"
            ]
          },
          "metadata": {},
          "execution_count": 17
        }
      ]
    },
    {
      "cell_type": "code",
      "source": [
        "# Finally, stack all beat-synchronous features together # (38, 212)\n",
        "beat_features = np.vstack([beat_chroma, beat_mfcc_delta])\n",
        "beat_features"
      ],
      "metadata": {
        "id": "BDFuxGLV3wZ2",
        "outputId": "14d936c1-5fa9-4639-c286-32a033373c92",
        "colab": {
          "base_uri": "https://localhost:8080/"
        }
      },
      "execution_count": 37,
      "outputs": [
        {
          "output_type": "execute_result",
          "data": {
            "text/plain": [
              "array([[ 0.30254456,  0.0334522 ,  0.1058374 , ...,  0.15276003,\n",
              "         0.07555082,  0.0814149 ],\n",
              "       [ 0.25782844,  0.04074808,  0.08428392, ...,  0.09633808,\n",
              "         0.12807782,  0.0932549 ],\n",
              "       [ 0.3997867 ,  0.0575659 ,  0.09429981, ...,  0.44611084,\n",
              "         0.186589  ,  0.13245766],\n",
              "       ...,\n",
              "       [-0.06548901, -0.14644985,  0.05339273, ..., -0.16999006,\n",
              "         0.62217766,  0.12908453],\n",
              "       [-0.02321963, -0.13737966, -0.01143883, ..., -0.24983512,\n",
              "         0.2491345 ,  0.00830472],\n",
              "       [ 0.02864804, -0.20102443, -0.05542237, ...,  0.07502007,\n",
              "        -0.61561984,  0.07628296]], dtype=float32)"
            ]
          },
          "metadata": {},
          "execution_count": 37
        }
      ]
    },
    {
      "cell_type": "code",
      "source": [
        "beat_features.shape"
      ],
      "metadata": {
        "id": "key8aMDD-D5t",
        "outputId": "b809aa31-5a8a-4700-b31b-4573bf11e21a",
        "colab": {
          "base_uri": "https://localhost:8080/"
        }
      },
      "execution_count": 38,
      "outputs": [
        {
          "output_type": "execute_result",
          "data": {
            "text/plain": [
              "(38, 212)"
            ]
          },
          "metadata": {},
          "execution_count": 38
        }
      ]
    },
    {
      "cell_type": "code",
      "source": [
        ""
      ],
      "metadata": {
        "id": "YoWCkR2C_aWI"
      },
      "execution_count": null,
      "outputs": []
    }
  ]
}