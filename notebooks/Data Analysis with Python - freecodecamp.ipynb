{
  "cells": [
    {
      "cell_type": "markdown",
      "metadata": {
        "id": "view-in-github",
        "colab_type": "text"
      },
      "source": [
        "<a href=\"https://colab.research.google.com/github/mequanent/Audio-Processing/blob/main/notebooks/Data%20Analysis%20with%20Python%20-%20freecodecamp.ipynb\" target=\"_parent\"><img src=\"https://colab.research.google.com/assets/colab-badge.svg\" alt=\"Open In Colab\"/></a>"
      ]
    },
    {
      "cell_type": "code",
      "source": [
        "!npx degit https://github.com/mequanent/Audio-Processing -f"
      ],
      "metadata": {
        "id": "1fecR_phlGEk",
        "outputId": "5b8f99ba-437d-4bf1-9a1e-1dd27a260517",
        "colab": {
          "base_uri": "https://localhost:8080/"
        }
      },
      "execution_count": 1,
      "outputs": [
        {
          "output_type": "stream",
          "name": "stdout",
          "text": [
            "\u001b[K\u001b[?25hnpx: installed 1 in 1.939s\n",
            "\u001b[36m> destination directory is not empty. Using --force, continuing\u001b[39m\n",
            "\u001b[36m> cloned \u001b[1mmequanent/Audio-Processing\u001b[22m#\u001b[1mHEAD\u001b[22m\u001b[39m\n"
          ]
        }
      ]
    },
    {
      "cell_type": "markdown",
      "source": [
        "# **Mean-Variance-Standard Deviation Calculator**"
      ],
      "metadata": {
        "id": "h1kbQ3uy1-3I"
      }
    },
    {
      "cell_type": "code",
      "source": [
        "import numpy as np\n",
        "def calculate(lst):\n",
        "  try:\n",
        "    dct = dict()\n",
        "    lst = np.array(lst)\n",
        "    lst = lst.reshape((3, 3))\n",
        "    \n",
        "    mean_flat, var_flat = lst.flatten().mean(), lst.flatten().var()\n",
        "    std_flat, max_flat = lst.flatten().std(), lst.flatten().max()\n",
        "    min_flat, sum_flat = lst.flatten().min(), lst.flatten().sum()\n",
        "    men0, men1 = lst.mean(axis=0).tolist(), lst.mean(axis=1).tolist()\n",
        "    var0, var1 = lst.var(axis=0).tolist(), lst.var(axis=1).tolist()\n",
        "    std0, std1 = lst.std(axis=0).tolist(), lst.std(axis=1).tolist()\n",
        "    max0, max1 = lst.max(axis=0).tolist(), lst.max(axis=1).tolist()\n",
        "    min0, min1 = lst.min(axis=0).tolist(), lst.min(axis=1).tolist()\n",
        "    sum0, sum1 = lst.sum(axis=0).tolist(), lst.sum(axis=1).tolist()\n",
        "    std0, std1 = lst.std(axis=0).tolist(), lst.std(axis=1).tolist()\n",
        "      \n",
        "    dct[\"mean\"] = [men0, men1, mean_flat]\n",
        "    dct[\"variance\"] = [var0, var1, var_flat]\n",
        "    dct[\"standard deviation\"] = [std0, std1, std_flat]\n",
        "    dct[\"max\"] = [max0, max1, max_flat]\n",
        "    dct[\"min\"] = [min0, min1, min_flat]\n",
        "    dct[\"sum\"] = [sum0, sum1, sum_flat]\n",
        "\n",
        "    return dct\n",
        "\n",
        "  except ValueError:\n",
        "    print(\"List must contain nine numbers.\")\n",
        "lst = [0,1,2,3,4,5,6,7,8]  \n",
        "\n",
        "calculate(lst)"
      ],
      "metadata": {
        "id": "hHVUsN7qXoEv",
        "outputId": "1634be09-4472-45b9-9b75-5100f3766343",
        "colab": {
          "base_uri": "https://localhost:8080/"
        }
      },
      "execution_count": null,
      "outputs": [
        {
          "output_type": "stream",
          "name": "stdout",
          "text": [
            "List must contain nine numbers.\n"
          ]
        }
      ]
    },
    {
      "cell_type": "markdown",
      "source": [
        "# **Demographic Data Analyzer**"
      ],
      "metadata": {
        "id": "VcG1YiKj0-D6"
      }
    },
    {
      "cell_type": "markdown",
      "source": [
        "**demographic_data_analyzer.py**"
      ],
      "metadata": {
        "id": "ZORrZWTn0pIl"
      }
    },
    {
      "cell_type": "code",
      "source": [
        "import pandas as pd\n",
        "\n",
        "\n",
        "def calculate_demographic_data(print_data=True):\n",
        "    # Read data from file\n",
        "    df = pd.read_csv('adult.data.csv')\n",
        "  \n",
        "    # How many of each race are represented in this dataset? This should be a Pandas series with race names as the index labels.\n",
        "    race_count = df.race.value_counts()\n",
        "  \n",
        "    # What is the average age of men?\n",
        "    average_age_men = df[df.sex == 'Male'].age.mean().round(1)\n",
        "\n",
        "    # What is the percentage of people who have a Bachelor's degree?\n",
        "    percentage_bachelors = round((len(df[df.education == 'Bachelors']) / len(df) * 100), 1)\n",
        "\n",
        "    # What percentage of people with advanced education (`Bachelors`, `Masters`, or `Doctorate`) make more than 50K?\n",
        "    # What percentage of people without advanced education make more than 50K?\n",
        "\n",
        "    # with and without `Bachelors`, `Masters`, or `Doctorate`\n",
        "    higher_education = df[df.education.isin(['Bachelors', 'Masters', 'Doctorate'])]\n",
        "    lower_education = df[~df.education.isin(['Bachelors', 'Masters', 'Doctorate'])]\n",
        "\n",
        "    # percentage with salary >50K\n",
        "    higher_education_rich = round(len(higher_education[higher_education.salary == '>50K']) / len(higher_education) * 100 , 1)\n",
        "    lower_education_rich = round(len(lower_education[lower_education.salary == '>50K']) / len(lower_education) * 100, 1)\n",
        "\n",
        "    # What is the minimum number of hours a person works per week (hours-per-week feature)?\n",
        "    min_work_hours = df['hours-per-week'].min()\n",
        "\n",
        "    # What percentage of the people who work the minimum number of hours per week have a salary of >50K?\n",
        "    num_min_workers = df[df['hours-per-week'] == df['hours-per-week'].min()]\n",
        "\n",
        "    rich_percentage = round(len(num_min_workers[num_min_workers.salary == \">50K\"]) / len(num_min_workers) * 100, 1)\n",
        "\n",
        "    # What country has the highest percentage of people that earn >50K?\n",
        "    highest_earning_country = df.groupby('native-country')['salary'].apply(lambda c: round((c=='>50K').sum()/len(c)*100, 1)).idxmax()\n",
        "    highest_earning_country_percentage = df.groupby('native-country')['salary'].apply(lambda c: round((c=='>50K').sum()/len(c)*100, 1)).max()\n",
        "\n",
        "    # Identify the most popular occupation for those who earn >50K in India.\n",
        "    top_IN_occupation = df[(df['native-country'] == 'India') & (df.salary == '>50K')].occupation.value_counts().index[0]\n",
        "\n",
        "    # DO NOT MODIFY BELOW THIS LINE\n",
        "\n",
        "    if print_data:\n",
        "        print(\"Number of each race:\\n\", race_count) \n",
        "        print(\"Average age of men:\", average_age_men)\n",
        "        print(f\"Percentage with Bachelors degrees: {percentage_bachelors}%\")\n",
        "        print(f\"Percentage with higher education that earn >50K: {higher_education_rich}%\")\n",
        "        print(f\"Percentage without higher education that earn >50K: {lower_education_rich}%\")\n",
        "        print(f\"Min work time: {min_work_hours} hours/week\")\n",
        "        print(f\"Percentage of rich among those who work fewest hours: {rich_percentage}%\")\n",
        "        print(\"Country with highest percentage of rich:\", highest_earning_country)\n",
        "        print(f\"Highest percentage of rich people in country: {highest_earning_country_percentage}%\")\n",
        "        print(\"Top occupations in India:\", top_IN_occupation)\n",
        "\n",
        "    return {\n",
        "        'race_count': race_count,\n",
        "        'average_age_men': average_age_men,\n",
        "        'percentage_bachelors': percentage_bachelors,\n",
        "        'higher_education_rich': higher_education_rich,\n",
        "        'lower_education_rich': lower_education_rich,\n",
        "        'min_work_hours': min_work_hours,\n",
        "        'rich_percentage': rich_percentage,\n",
        "        'highest_earning_country': highest_earning_country,\n",
        "        'highest_earning_country_percentage':\n",
        "        highest_earning_country_percentage,\n",
        "        'top_IN_occupation': top_IN_occupation\n",
        "    }\n"
      ],
      "metadata": {
        "id": "PcLVK-dQ0f2z"
      },
      "execution_count": null,
      "outputs": []
    },
    {
      "cell_type": "markdown",
      "source": [
        "**main.py**"
      ],
      "metadata": {
        "id": "k1L1aQe41Nbd"
      }
    },
    {
      "cell_type": "code",
      "source": [
        "# This entrypoint file to be used in development. Start by reading README.md\n",
        "import demographic_data_analyzer\n",
        "from unittest import main\n",
        "\n",
        "# Test your function by calling it here\n",
        "demographic_data_analyzer.calculate_demographic_data()\n",
        "\n",
        "# Run unit tests automatically\n",
        "main(module='test_module', exit=False)"
      ],
      "metadata": {
        "id": "HakEpCxg1Ixr"
      },
      "execution_count": null,
      "outputs": []
    },
    {
      "cell_type": "markdown",
      "source": [
        "**test_module.py**"
      ],
      "metadata": {
        "id": "clmlYRy81W1W"
      }
    },
    {
      "cell_type": "code",
      "source": [
        "import unittest\n",
        "import demographic_data_analyzer\n",
        "\n",
        "class DemographicAnalyzerTestCase(unittest.TestCase):\n",
        "    def setUp(self):\n",
        "        self.data = demographic_data_analyzer.calculate_demographic_data(print_data = False)\n",
        "\n",
        "    def test_race_count(self):\n",
        "        actual = self.data['race_count'].tolist()\n",
        "        expected = [27816, 3124, 1039, 311, 271]\n",
        "        self.assertAlmostEqual(actual, expected, msg=\"Expected race count values to be [27816, 3124, 1039, 311, 271]\")\n",
        "    \n",
        "    def test_average_age_men(self):\n",
        "        actual = self.data['average_age_men']\n",
        "        expected = 39.4\n",
        "        self.assertAlmostEqual(actual, expected, msg=\"Expected different value for average age of men.\")\n",
        "\n",
        "    def test_percentage_bachelors(self):\n",
        "        actual = self.data['percentage_bachelors']\n",
        "        expected = 16.4 \n",
        "        self.assertAlmostEqual(actual, expected, msg=\"Expected different value for percentage with Bachelors degrees.\")\n",
        "\n",
        "    def test_higher_education_rich(self):\n",
        "        actual = self.data['higher_education_rich']\n",
        "        expected = 46.5\n",
        "        self.assertAlmostEqual(actual, expected, msg=\"Expected different value for percentage with higher education that earn >50K.\")\n",
        "  \n",
        "    def test_lower_education_rich(self):\n",
        "        actual = self.data['lower_education_rich']\n",
        "        expected = 17.4\n",
        "        self.assertAlmostEqual(actual, expected, msg=\"Expected different value for percentage without higher education that earn >50K.\")\n",
        "\n",
        "    def test_min_work_hours(self):\n",
        "        actual = self.data['min_work_hours']\n",
        "        expected = 1\n",
        "        self.assertAlmostEqual(actual, expected, msg=\"Expected different value for minimum work hours.\")     \n",
        "\n",
        "    def test_rich_percentage(self):\n",
        "        actual = self.data['rich_percentage']\n",
        "        expected = 10\n",
        "        self.assertAlmostEqual(actual, expected, msg=\"Expected different value for percentage of rich among those who work fewest hours.\")   \n",
        "\n",
        "    def test_highest_earning_country(self):\n",
        "        actual = self.data['highest_earning_country']\n",
        "        expected = 'Iran'\n",
        "        self.assertEqual(actual, expected, \"Expected different value for highest earning country.\")   \n",
        "\n",
        "    def test_highest_earning_country_percentage(self):\n",
        "        actual = self.data['highest_earning_country_percentage']\n",
        "        expected = 41.9\n",
        "        self.assertAlmostEqual(actual, expected, msg=\"Expected different value for highest earning country percentage.\")   \n",
        "\n",
        "    def test_top_IN_occupation(self):\n",
        "        actual = self.data['top_IN_occupation']\n",
        "        expected = 'Prof-specialty'\n",
        "        self.assertEqual(actual, expected, \"Expected different value for top occupations in India.\")      \n",
        "\n",
        "if __name__ == \"__main__\":\n",
        "    unittest.main()\n"
      ],
      "metadata": {
        "id": "LPNsGQDl1Zhc"
      },
      "execution_count": null,
      "outputs": []
    },
    {
      "cell_type": "markdown",
      "source": [
        "**renovate.json**"
      ],
      "metadata": {
        "id": "HssiNEBj1qcV"
      }
    },
    {
      "cell_type": "code",
      "source": [
        "{\n",
        "  \"labels\": [\"renovate\"],\n",
        "  \"extends\": [\"config:base\"],\n",
        "  \"branchConcurrentLimit\": 20,\n",
        "  \"dependencyDashboard\": true,\n",
        "  \"major\": {\n",
        "    \"dependencyDashboardApproval\": true\n",
        "  },\n",
        "  \"packageRules\": [\n",
        "    {\n",
        "      \"matchUpdateTypes\": [\"minor\", \"patch\", \"pin\", \"digest\"],\n",
        "      \"matchCurrentVersion\": \"!/^0/\",\n",
        "      \"automerge\": true\n",
        "    }\n",
        "  ]\n",
        "}\n"
      ],
      "metadata": {
        "id": "lMkw9zvQ1tJ8"
      },
      "execution_count": null,
      "outputs": []
    },
    {
      "cell_type": "markdown",
      "source": [
        "# **Medical Data Visualizer**"
      ],
      "metadata": {
        "id": "0NEifkzMg1EU"
      }
    },
    {
      "cell_type": "markdown",
      "source": [
        "**medical_data_visualizer.py**"
      ],
      "metadata": {
        "id": "PB61akb7RhHN"
      }
    },
    {
      "cell_type": "code",
      "source": [
        "import pandas as pd\n",
        "import seaborn as sns\n",
        "import matplotlib.pyplot as plt\n",
        "import numpy as np\n",
        "\n",
        "# Import data\n",
        "df = pd.read_csv('medical_examination.csv')\n",
        "\n",
        "# Add 'overweight' column\n",
        "df['overweight'] = np.where(df.weight / ((df.height / 100) ** 2) > 25, 1, 0)\n",
        "\n",
        "# Normalize data by making 0 always good and 1 always bad. If the value of 'cholesterol' or 'gluc' is 1, make the value 0. If the value is more than 1, make the value 1.\n",
        "\n",
        "df['cholesterol'] = np.where(df['cholesterol'] > 1, 1, 0) \n",
        "df['gluc'] = np.where(df['gluc'] > 1, 1, 0) \n",
        "\n",
        "# Draw Categorical Plot\n",
        "def draw_cat_plot():\n",
        "    # Create DataFrame for cat plot using `pd.melt` using just the values from 'cholesterol', 'gluc', 'smoke', 'alco', 'active', and 'overweight'.\n",
        "    df_cat = df.melt(id_vars=['cardio'], value_vars=['active', 'alco', 'cholesterol', 'gluc', 'overweight', 'smoke'])\n",
        "\n",
        "\n",
        "    # Group and reformat the data to split it by 'cardio'. Show the counts of each feature. You will have to rename one of the columns for the catplot to work correctly.\n",
        "    df_cat = df_cat.groupby(['cardio', 'variable', 'value']).size().reset_index(name='total')\n",
        "\n",
        "    fig = sns.catplot(data=df_cat, x=\"variable\", y=\"total\", hue=\"value\", col=\"cardio\", kind=\"bar\")# Draw the catplot with 'sns.catplot()'\n",
        "\n",
        "    # Do not modify the next two lines\n",
        "    fig.savefig('catplot.png')\n",
        "    return fig\n",
        "\n",
        "\n",
        "# Draw Heat Map\n",
        "def draw_heat_map():\n",
        "    # Clean the data\n",
        "    df_heat = df.loc[\n",
        "                 (df[\"ap_lo\"] <= df[\"ap_hi\"])\n",
        "                 & (df[\"height\"] >= df[\"height\"].quantile(0.025))\n",
        "                 & (df[\"height\"] <= df[\"height\"].quantile(0.975))\n",
        "                 & (df[\"weight\"] >= df[\"weight\"].quantile(0.025))\n",
        "                 & (df[\"weight\"] <= df[\"weight\"].quantile(0.975))\n",
        "                 ]\n",
        "\n",
        "    # Calculate the correlation matrix\n",
        "    corr = df_heat.corr()\n",
        "\n",
        "    # Generate a mask for the upper triangle\n",
        "    mask = mask = np.zeros_like(corr)\n",
        "    mask[np.triu_indices_from(mask)] = True\n",
        "\n",
        "\n",
        "\n",
        "    # Set up the matplotlib figure\n",
        "    fig, ax = plt.subplots(figsize = (12, 9))\n",
        "\n",
        "    fig = sns.heatmap(corr, mask = mask, vmax = 0.4, square = True, fmt = '.1f', annot = True)# Draw the heatmap with 'sns.heatmap()'\n",
        "\n",
        "    # Do not modify the next two lines\n",
        "    fig.savefig('heatmap.png')\n",
        "    return fig\n",
        "\n"
      ],
      "metadata": {
        "id": "iHYsv4M1lPnJ"
      },
      "execution_count": 2,
      "outputs": []
    },
    {
      "cell_type": "markdown",
      "source": [
        "**main.py**"
      ],
      "metadata": {
        "id": "6Xhbn5h-RrpH"
      }
    },
    {
      "cell_type": "code",
      "source": [
        "# This entrypoint file to be used in development. Start by reading README.md\n",
        "import medical_data_visualizer\n",
        "from unittest import main\n",
        "\n",
        "# Test your function by calling it here\n",
        "medical_data_visualizer.draw_cat_plot()\n",
        "medical_data_visualizer.draw_heat_map()\n",
        "\n",
        "# Run unit tests automatically\n",
        "main(module='test_module', exit=False)"
      ],
      "metadata": {
        "id": "EbnOgmSZlftn"
      },
      "execution_count": null,
      "outputs": []
    },
    {
      "cell_type": "markdown",
      "source": [
        "**test_module.py**"
      ],
      "metadata": {
        "id": "Q8Z3EjAIR1Jh"
      }
    },
    {
      "cell_type": "code",
      "source": [
        "import unittest\n",
        "import medical_data_visualizer\n",
        "import matplotlib as mpl\n",
        "\n",
        "\n",
        "# the test case\n",
        "class CatPlotTestCase(unittest.TestCase):\n",
        "    def setUp(self):\n",
        "        self.fig = medical_data_visualizer.draw_cat_plot()\n",
        "        self.ax = self.fig.axes[0]\n",
        "    \n",
        "    def test_line_plot_labels(self):\n",
        "        actual = self.ax.get_xlabel()\n",
        "        expected = \"variable\"\n",
        "        self.assertEqual(actual, expected, \"Expected line plot xlabel to be 'variable'\")\n",
        "        actual = self.ax.get_ylabel()\n",
        "        expected = \"total\"\n",
        "        self.assertEqual(actual, expected, \"Expected line plot ylabel to be 'total'\")\n",
        "        actual = []\n",
        "        for label in self.ax.get_xaxis().get_majorticklabels():\n",
        "            actual.append(label.get_text())\n",
        "        expected = ['active', 'alco', 'cholesterol', 'gluc', 'overweight', 'smoke']\n",
        "        self.assertEqual(actual, expected, \"Expected bar plot secondary x labels to be 'active', 'alco', 'cholesterol', 'gluc', 'overweight', 'smoke'\")\n",
        "\n",
        "    def test_bar_plot_number_of_bars(self):\n",
        "        actual = len([rect for rect in self.ax.get_children() if isinstance(rect, mpl.patches.Rectangle)])\n",
        "        expected = 13\n",
        "        self.assertEqual(actual, expected, \"Expected a different number of bars chart.\")\n",
        "\n",
        "\n",
        "class HeatMapTestCase(unittest.TestCase):\n",
        "    def setUp(self):\n",
        "        self.fig = medical_data_visualizer.draw_heat_map()\n",
        "        self.ax = self.fig.axes[0]\n",
        "\n",
        "    def test_heat_map_labels(self):\n",
        "        actual = []\n",
        "        for label in self.ax.get_xticklabels():\n",
        "          actual.append(label.get_text())\n",
        "        expected = ['id', 'age', 'sex', 'height', 'weight', 'ap_hi', 'ap_lo', 'cholesterol', 'gluc', 'smoke', 'alco', 'active', 'cardio', 'overweight']\n",
        "        self.assertEqual(actual, expected, \"Expected bar plot legend labels to be months of the year.\")\n",
        "    \n",
        "    def test_heat_map_values(self):\n",
        "        actual = [text.get_text() for text in self.ax.get_default_bbox_extra_artists() if isinstance(text, mpl.text.Text)]\n",
        "        print(actual)\n",
        "        expected = ['0.0', '0.0', '-0.0', '0.0', '-0.1', '0.5', '0.0', '0.1', '0.1', '0.3', '0.0', '0.0', '0.0', '0.0', '0.0', '0.0', '0.2', '0.1', '0.0', '0.2', '0.1', '0.0', '0.1', '-0.0', '-0.1', '0.1', '0.0', '0.2', '0.0', '0.1', '-0.0', '-0.0', '0.1', '0.0', '0.1', '0.4', '-0.0', '-0.0', '0.3', '0.2', '0.1', '-0.0', '0.0', '0.0', '-0.0', '-0.0', '-0.0', '0.2', '0.1', '0.1', '0.0', '0.0', '0.0', '0.0', '0.3', '0.0', '-0.0', '0.0', '-0.0', '-0.0', '-0.0', '0.0', '0.0', '-0.0', '0.0', '0.0', '0.0', '0.2', '0.0', '-0.0', '0.2', '0.1', '0.3', '0.2', '0.1', '-0.0', '-0.0', '-0.0', '-0.0', '0.1', '-0.1', '-0.1', '0.7', '0.0', '0.2', '0.1', '0.1', '-0.0', '0.0', '-0.0', '0.1']\n",
        "        self.assertEqual(actual, expected, \"Expected different values in heat map.\")\n",
        "\n",
        "if __name__ == \"__main__\":\n",
        "    unittest.main()\n"
      ],
      "metadata": {
        "id": "J98bxCloR-SF"
      },
      "execution_count": null,
      "outputs": []
    },
    {
      "cell_type": "markdown",
      "source": [
        "# **End of Freecodecamp**"
      ],
      "metadata": {
        "id": "KdtsACKD2HWW"
      }
    },
    {
      "cell_type": "markdown",
      "metadata": {
        "id": "-pVhOfzLx9us"
      },
      "source": [
        "# Using Google Colab with GitHub\n",
        "\n"
      ]
    },
    {
      "cell_type": "markdown",
      "metadata": {
        "id": "wKJ4bd5rt1wy"
      },
      "source": [
        "\n",
        "[Google Colaboratory](http://colab.research.google.com) is designed to integrate cleanly with GitHub, allowing both loading notebooks from github and saving notebooks to github."
      ]
    },
    {
      "cell_type": "markdown",
      "metadata": {
        "id": "K-NVg7RjyeTk"
      },
      "source": [
        "## Loading Public Notebooks Directly from GitHub\n",
        "\n",
        "Colab can load public github notebooks directly, with no required authorization step.\n",
        "\n",
        "For example, consider the notebook at this address: https://github.com/googlecolab/colabtools/blob/master/notebooks/colab-github-demo.ipynb.\n",
        "\n",
        "The direct colab link to this notebook is: https://colab.research.google.com/github/googlecolab/colabtools/blob/master/notebooks/colab-github-demo.ipynb.\n",
        "\n",
        "To generate such links in one click, you can use the [Open in Colab](https://chrome.google.com/webstore/detail/open-in-colab/iogfkhleblhcpcekbiedikdehleodpjo) Chrome extension."
      ]
    },
    {
      "cell_type": "markdown",
      "metadata": {
        "id": "WzIRIt9d2huC"
      },
      "source": [
        "## Browsing GitHub Repositories from Colab\n",
        "\n",
        "Colab also supports special URLs that link directly to a GitHub browser for any user/organization, repository, or branch. For example:\n",
        "\n",
        "- http://colab.research.google.com/github will give you a general github browser, where you can search for any github organization or username.\n",
        "- http://colab.research.google.com/github/googlecolab/ will open the repository browser for the ``googlecolab`` organization. Replace ``googlecolab`` with any other github org or user to see their repositories.\n",
        "- http://colab.research.google.com/github/googlecolab/colabtools/ will let you browse the main branch of the ``colabtools`` repository within the ``googlecolab`` organization. Substitute any user/org and repository to see its contents.\n",
        "- http://colab.research.google.com/github/googlecolab/colabtools/blob/master will let you browse ``master`` branch of the ``colabtools`` repository within the ``googlecolab`` organization. (don't forget the ``blob`` here!) You can specify any valid branch for any valid repository."
      ]
    },
    {
      "cell_type": "markdown",
      "metadata": {
        "id": "Rmai0dD30XzL"
      },
      "source": [
        "## Loading Private Notebooks\n",
        "\n",
        "Loading a notebook from a private GitHub repository is possible, but requires an additional step to allow Colab to access your files.\n",
        "Do the following:\n",
        "\n",
        "1. Navigate to http://colab.research.google.com/github.\n",
        "2. Click the \"Include Private Repos\" checkbox.\n",
        "3. In the popup window, sign-in to your Github account and authorize Colab to read the private files.\n",
        "4. Your private repositories and notebooks will now be available via the github navigation pane."
      ]
    },
    {
      "cell_type": "markdown",
      "metadata": {
        "id": "8J3NBxtZpPcK"
      },
      "source": [
        "## Saving Notebooks To GitHub or Drive\n",
        "\n",
        "Any time you open a GitHub hosted notebook in Colab, it opens a new editable view of the notebook. You can run and modify the notebook without worrying about overwriting the source.\n",
        "\n",
        "If you would like to save your changes from within Colab, you can use the File menu to save the modified notebook either to Google Drive or back to GitHub. Choose **File→Save a copy in Drive** or **File→Save a copy to GitHub** and follow the resulting prompts. To save a Colab notebook to GitHub requires giving Colab permission to push the commit to your repository."
      ]
    },
    {
      "cell_type": "markdown",
      "metadata": {
        "id": "8QAWNjizy_3O"
      },
      "source": [
        "## Open In Colab Badge\n",
        "\n",
        "Anybody can open a copy of any github-hosted notebook within Colab. To make it easier to give people access to live views of GitHub-hosted notebooks,\n",
        "colab provides a [shields.io](http://shields.io/)-style badge, which appears as follows:\n",
        "\n",
        "[![Open In Colab](https://colab.research.google.com/assets/colab-badge.svg)](https://colab.research.google.com/github/googlecolab/colabtools/blob/master/notebooks/colab-github-demo.ipynb)\n",
        "\n",
        "The markdown for the above badge is the following:\n",
        "\n",
        "```markdown\n",
        "[![Open In Colab](https://colab.research.google.com/assets/colab-badge.svg)](https://colab.research.google.com/github/googlecolab/colabtools/blob/master/notebooks/colab-github-demo.ipynb)\n",
        "```\n",
        "\n",
        "The HTML equivalent is:\n",
        "\n",
        "```HTML\n",
        "<a href=\"https://colab.research.google.com/github/googlecolab/colabtools/blob/master/notebooks/colab-github-demo.ipynb\">\n",
        "  <img src=\"https://colab.research.google.com/assets/colab-badge.svg\" alt=\"Open In Colab\"/>\n",
        "</a>\n",
        "```\n",
        "\n",
        "Remember to replace the notebook URL in this template with the notebook you want to link to."
      ]
    },
    {
      "cell_type": "code",
      "execution_count": null,
      "metadata": {
        "id": "3VQqVi-3ScBC"
      },
      "outputs": [],
      "source": [
        ""
      ]
    }
  ],
  "metadata": {
    "colab": {
      "collapsed_sections": [],
      "name": "colab-github-demo.ipynb",
      "provenance": [],
      "toc_visible": true,
      "include_colab_link": true
    },
    "kernelspec": {
      "display_name": "Python 3",
      "name": "python3"
    }
  },
  "nbformat": 4,
  "nbformat_minor": 0
}